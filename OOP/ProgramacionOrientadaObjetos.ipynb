{
 "cells": [
  {
   "attachments": {},
   "cell_type": "markdown",
   "metadata": {},
   "source": [
    "# Programacion orientada a objetos"
   ]
  },
  {
   "attachments": {},
   "cell_type": "markdown",
   "metadata": {},
   "source": [
    "Title: Bus\n",
    "Author: Sara Brborich\n",
    "Date created: March 7, 2023\n",
    "Date Modified: March 7, 2023\n",
    "Description: \n"
   ]
  },
  {
   "cell_type": "code",
   "execution_count": 44,
   "metadata": {},
   "outputs": [],
   "source": [
    "class Bus:\n",
    "\n",
    "    #Constructor para inicializar los atributos\n",
    "    def __init__(self, numSeats, color): #inicializa los atributos\n",
    "        self.numSeat=numSeats #numero de asientos\n",
    "        self.color= color #color\n",
    "        self.coordinates= [0,0] #coordenadas\n",
    "        self.xcor=self.coordinates[0] #coordenada x\n",
    "        self.ycor=self.coordinates[1] #coordenada y\n",
    "\n",
    "    def __str__(self): #imprime la informacion del bus\n",
    "        myinfo =(f\"******\" #imprime asteriscos\n",
    "                 f\"\\nNumber of seats: {self.numSeat}\" #imprime el numero de asientos\n",
    "                 f\"\\nColor: {self.color}\" #imprime el color\n",
    "                 f\"\\nPosition: {self.coordinates}\" #imprime la posicion\n",
    "                 f\"\\n\") #salto de linea\n",
    "        return myinfo #retorna la informacion\n",
    "        \n",
    "    def move(self, newPosition): #mueve el bus\n",
    "        self.coordinates= newPosition #cambia la posicion\n",
    "        \n",
    "\n",
    "    def updateCoordinates(self): #actualiza las coodenadas\n",
    "        self.xcor=self.coordinates[0] #actualiza la coordenada x\n",
    "        self.ycor=self.coordinates[1] #actualiza la coordenada y\n",
    "\n",
    "\n",
    "\n"
   ]
  },
  {
   "cell_type": "code",
   "execution_count": 45,
   "metadata": {},
   "outputs": [
    {
     "name": "stdout",
     "output_type": "stream",
     "text": [
      "******\n",
      "Number of seats: 10\n",
      "Color: red\n",
      "Position: [0, 0]\n",
      "\n",
      "******\n",
      "Number of seats: 20\n",
      "Color: blue\n",
      "Position: [0, 0]\n",
      "\n"
     ]
    }
   ],
   "source": [
    "bus1= Bus(10, \"red\") #crea un bus con 10 asientos y color rojo\n",
    "bus2= Bus(20, \"blue\") #crea un bus con 20 asientos y color azul\n",
    "print(bus1) #imprime la informacion del bus 1\n",
    "print(bus2) #imprime la informacion del bus 2"
   ]
  },
  {
   "cell_type": "code",
   "execution_count": 46,
   "metadata": {},
   "outputs": [
    {
     "name": "stdout",
     "output_type": "stream",
     "text": [
      "30\n"
     ]
    }
   ],
   "source": [
    "import random #importa la libreria random\n",
    "random.randint(10, 50) #genera un numero aleatorio entre 10 y 50\n",
    "print(random.randint(10, 50)) #imprime el numero aleatorio"
   ]
  },
  {
   "attachments": {},
   "cell_type": "markdown",
   "metadata": {},
   "source": [
    "creamos una lista para guardar los buses, y creo 10 de los mismos con diferentes caracteristicas. "
   ]
  },
  {
   "cell_type": "code",
   "execution_count": 48,
   "metadata": {},
   "outputs": [
    {
     "name": "stdout",
     "output_type": "stream",
     "text": [
      "******\n",
      "Number of seats: 26\n",
      "Color: red\n",
      "Position: [45, 21]\n",
      "\n",
      "******\n",
      "Number of seats: 23\n",
      "Color: red\n",
      "Position: [23, 95]\n",
      "\n",
      "******\n",
      "Number of seats: 25\n",
      "Color: red\n",
      "Position: [33, 48]\n",
      "\n",
      "******\n",
      "Number of seats: 48\n",
      "Color: red\n",
      "Position: [98, 67]\n",
      "\n",
      "******\n",
      "Number of seats: 23\n",
      "Color: red\n",
      "Position: [61, 62]\n",
      "\n",
      "******\n",
      "Number of seats: 45\n",
      "Color: red\n",
      "Position: [42, 96]\n",
      "\n",
      "******\n",
      "Number of seats: 23\n",
      "Color: red\n",
      "Position: [30, 65]\n",
      "\n",
      "******\n",
      "Number of seats: 49\n",
      "Color: red\n",
      "Position: [78, 11]\n",
      "\n",
      "******\n",
      "Number of seats: 36\n",
      "Color: red\n",
      "Position: [7, 52]\n",
      "\n",
      "******\n",
      "Number of seats: 49\n",
      "Color: red\n",
      "Position: [10, 46]\n",
      "\n",
      "******\n",
      "Number of seats: 46\n",
      "Color: blue\n",
      "Position: [84, 30]\n",
      "\n",
      "******\n",
      "Number of seats: 15\n",
      "Color: blue\n",
      "Position: [12, 98]\n",
      "\n",
      "******\n",
      "Number of seats: 27\n",
      "Color: blue\n",
      "Position: [86, 31]\n",
      "\n",
      "******\n",
      "Number of seats: 40\n",
      "Color: blue\n",
      "Position: [68, 62]\n",
      "\n",
      "******\n",
      "Number of seats: 44\n",
      "Color: blue\n",
      "Position: [30, 2]\n",
      "\n",
      "******\n",
      "Number of seats: 11\n",
      "Color: blue\n",
      "Position: [58, 69]\n",
      "\n",
      "******\n",
      "Number of seats: 21\n",
      "Color: blue\n",
      "Position: [68, 84]\n",
      "\n",
      "******\n",
      "Number of seats: 31\n",
      "Color: blue\n",
      "Position: [20, 63]\n",
      "\n",
      "******\n",
      "Number of seats: 35\n",
      "Color: blue\n",
      "Position: [53, 54]\n",
      "\n",
      "******\n",
      "Number of seats: 13\n",
      "Color: blue\n",
      "Position: [8, 78]\n",
      "\n"
     ]
    }
   ],
   "source": [
    "myBuses=[] #crea una lista vacia\n",
    "numBuses=10 #numero de buses\n",
    "\n",
    "for i in range(numBuses): #ciclo for para crear los buses\n",
    "    myBuses.append(Bus(random.randint(10, 50), \"red\")) #agrega los buses a la lista\n",
    "\n",
    "\n",
    "for i in range(numBuses): #ciclo for para crear los buses\n",
    "    myBuses.append(Bus(random.randint(10, 50), \"blue\")) #agrega los buses a la lista\n",
    "\n",
    "\n",
    "for bus in myBuses: #ciclo for para mover los buses\n",
    "    bus.move([random.randint(0, 100), random.randint(0, 100)]) #mueve los buses a una posicion aleatoria\n",
    "    print(bus) #imprime la informacion de los buses\n",
    "\n",
    "\n"
   ]
  }
 ],
 "metadata": {
  "kernelspec": {
   "display_name": "Python 3",
   "language": "python",
   "name": "python3"
  },
  "language_info": {
   "codemirror_mode": {
    "name": "ipython",
    "version": 3
   },
   "file_extension": ".py",
   "mimetype": "text/x-python",
   "name": "python",
   "nbconvert_exporter": "python",
   "pygments_lexer": "ipython3",
   "version": "3.10.6"
  },
  "orig_nbformat": 4
 },
 "nbformat": 4,
 "nbformat_minor": 2
}
